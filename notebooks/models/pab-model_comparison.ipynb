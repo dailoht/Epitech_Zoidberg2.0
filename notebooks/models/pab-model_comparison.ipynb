{
 "cells": [
  {
   "cell_type": "markdown",
   "metadata": {
    "id": "9_HjQjUnhVVR"
   },
   "source": [
    "<center>\n",
    "    <h1>Comparison performance of different models</h1>\n",
    "</center>"
   ]
  },
  {
   "cell_type": "markdown",
   "metadata": {
    "id": "ovS9CabJhVVV"
   },
   "source": [
    "In this notebook, we will train different models on a small part of the dataset in order to compare them and check which best suits for our problem."
   ]
  },
  {
   "cell_type": "markdown",
   "metadata": {
    "id": "rJXLE8e4hVVV"
   },
   "source": [
    "<table align=\"left\">\n",
    "    <td>\n",
    "        <a href=\"https://colab.research.google.com/github/dailoht/Epitech_Zoidberg2.0/blob/main/notebooks/models/pab-model_comparison.ipynb\"><img src=\"https://colab.research.google.com/assets/colab-badge.svg\" alt=\"Open In Colab\"/></a>\n",
    "    </td>\n",
    "</table>"
   ]
  },
  {
   "cell_type": "markdown",
   "metadata": {
    "id": "GR4NF354hVVW"
   },
   "source": [
    "# 1. Setup"
   ]
  },
  {
   "cell_type": "markdown",
   "metadata": {},
   "source": [
    "In this section, we setup the notebook by :\n",
    " - Import useful external libraries such that numpy, pandas, tensorflow, ...\n",
    " - ⚠️⚠️⚠️ Manage Colab and tensorflow strategy : we will use Google Drive as storage when using colab, so becareful to change project folder path in your drive).\n",
    " - Import personal modules (from `src` folder).\n",
    " - Set default visualization for awesome graphics !\n",
    " - Set default seed to replicate specific behavior implying random numbers."
   ]
  },
  {
   "cell_type": "code",
   "execution_count": 1,
   "metadata": {
    "colab": {
     "base_uri": "https://localhost:8080/"
    },
    "executionInfo": {
     "elapsed": 28499,
     "status": "ok",
     "timestamp": 1684596068649,
     "user": {
      "displayName": "Pierre-Alexandre Bolteau",
      "userId": "17404311271627354485"
     },
     "user_tz": -120
    },
    "id": "7ep1GVKzhVVW",
    "outputId": "b521e1ac-e0f0-42ff-a4f1-d07dea802cd7"
   },
   "outputs": [
    {
     "name": "stderr",
     "output_type": "stream",
     "text": [
      "2023-05-20 17:56:35.368624: I tensorflow/core/platform/cpu_feature_guard.cc:193] This TensorFlow binary is optimized with oneAPI Deep Neural Network Library (oneDNN) to use the following CPU instructions in performance-critical operations:  SSE4.1 SSE4.2 AVX AVX2 FMA\n",
      "To enable them in other operations, rebuild TensorFlow with the appropriate compiler flags.\n"
     ]
    },
    {
     "name": "stdout",
     "output_type": "stream",
     "text": [
      "We're running localy\n"
     ]
    }
   ],
   "source": [
    "# Import base librairies\n",
    "import sys\n",
    "import os\n",
    "import json\n",
    "from pathlib import Path\n",
    "import time\n",
    "\n",
    "# Import scientific librairies\n",
    "import pandas as pd\n",
    "import numpy as np\n",
    "import matplotlib.pyplot as plt\n",
    "import seaborn as sns\n",
    "\n",
    "# Import Tensorflow and Keras\n",
    "import tensorflow as tf\n",
    "from tensorflow import keras\n",
    "\n",
    "# Import scikit-learn\n",
    "from sklearn.utils import class_weight\n",
    "\n",
    "# Check running environment\n",
    "try:\n",
    "    from google.colab import drive\n",
    "    IN_COLAB=True\n",
    "except:\n",
    "    IN_COLAB=False\n",
    "\n",
    "if IN_COLAB:\n",
    "    print(\"We're running on Colab\")\n",
    "    \n",
    "    # Install tensorflow-addons\n",
    "    !pip install tensorflow_addons\n",
    "    \n",
    "    # Mount google drive\n",
    "    mounting_point = \"/content/drive/\"\n",
    "    drive.mount(mounting_point, force_remount=True)\n",
    "\n",
    "    # Add project directory to kernel paths\n",
    "    drive_folder = \"MyDrive/Etudes/Epitech/MSc/MSc-1/Zoidberg_AI/T-DEV-810-PAR_10\"\n",
    "    sys.path.append(mounting_point + drive_folder)\n",
    "else:\n",
    "    print(\"We're running localy\")\n",
    "    \n",
    "    # Add project directory to kernel paths\n",
    "    sys.path.append('../..')"
   ]
  },
  {
   "cell_type": "code",
   "execution_count": 2,
   "metadata": {
    "colab": {
     "base_uri": "https://localhost:8080/"
    },
    "executionInfo": {
     "elapsed": 12184,
     "status": "ok",
     "timestamp": 1684596085770,
     "user": {
      "displayName": "Pierre-Alexandre Bolteau",
      "userId": "17404311271627354485"
     },
     "user_tz": -120
    },
    "id": "1AzhPlgnhVVX",
    "outputId": "5eea535f-393e-476b-a19f-fcfe6422eaed",
    "scrolled": false
   },
   "outputs": [
    {
     "name": "stdout",
     "output_type": "stream",
     "text": [
      "Selected distribution strategy:                     _DefaultDistributionStrategy\n"
     ]
    },
    {
     "name": "stderr",
     "output_type": "stream",
     "text": [
      "2023-05-20 17:56:47.830778: I tensorflow/core/platform/cpu_feature_guard.cc:193] This TensorFlow binary is optimized with oneAPI Deep Neural Network Library (oneDNN) to use the following CPU instructions in performance-critical operations:  SSE4.1 SSE4.2 AVX AVX2 FMA\n",
      "To enable them in other operations, rebuild TensorFlow with the appropriate compiler flags.\n"
     ]
    }
   ],
   "source": [
    "# Import custom functions\n",
    "from src.visualization.plot_lib import default_viz\n",
    "from src.data.file_manager import FileManager\n",
    "from src.data.tf_utils import load_image_dataset_from_tfrecord, define_distribute_strategy\n",
    "from src.data.evaluation import Evaluation\n",
    "\n",
    "zoidbergManager = FileManager()\n",
    "strategy = define_distribute_strategy()\n",
    "evaluation = Evaluation(strategy)\n",
    "\n",
    "# Set default graphics visualization\n",
    "%matplotlib inline\n",
    "default_viz()"
   ]
  },
  {
   "cell_type": "code",
   "execution_count": 3,
   "metadata": {
    "executionInfo": {
     "elapsed": 431,
     "status": "ok",
     "timestamp": 1684596089699,
     "user": {
      "displayName": "Pierre-Alexandre Bolteau",
      "userId": "17404311271627354485"
     },
     "user_tz": -120
    },
    "id": "zPCOdNLAhVVY"
   },
   "outputs": [],
   "source": [
    "# set random seed for keras, numpy, tensorflow, and the 'random' module\n",
    "SEED = 42\n",
    "tf.keras.utils.set_random_seed(SEED)\n",
    "os.environ['PYTHONHASHSEED'] = str(SEED)"
   ]
  },
  {
   "cell_type": "markdown",
   "metadata": {
    "id": "FomE23rKhVVY"
   },
   "source": [
    "# 2. Loading dataset"
   ]
  },
  {
   "cell_type": "markdown",
   "metadata": {},
   "source": [
    "First we define some variables :\n",
    " - batch size : its value has been chosen as it is the highest one without reaching RAM upper bound.\n",
    " - part of train / val set to use : as we will train several models, we don't want that is to computationally expensive thus we take only 20%."
   ]
  },
  {
   "cell_type": "code",
   "execution_count": 4,
   "metadata": {
    "executionInfo": {
     "elapsed": 399,
     "status": "ok",
     "timestamp": 1684596093837,
     "user": {
      "displayName": "Pierre-Alexandre Bolteau",
      "userId": "17404311271627354485"
     },
     "user_tz": -120
    },
    "id": "JRVsCBmAhVVZ"
   },
   "outputs": [],
   "source": [
    "BATCH_SIZE = 64\n",
    "SMALL_TRAIN_SPLIT = 0.2\n",
    "SMALL_VAL_SPLIT = 0.2\n",
    "class_names = ['bacteria', 'normal', 'virus']"
   ]
  },
  {
   "cell_type": "markdown",
   "metadata": {
    "id": "L_7VF9HkhVVZ"
   },
   "source": [
    "Let's now load the train and val datasets :"
   ]
  },
  {
   "cell_type": "code",
   "execution_count": 5,
   "metadata": {
    "executionInfo": {
     "elapsed": 1502,
     "status": "ok",
     "timestamp": 1684596096994,
     "user": {
      "displayName": "Pierre-Alexandre Bolteau",
      "userId": "17404311271627354485"
     },
     "user_tz": -120
    },
    "id": "H1Fqk3KjhVVZ"
   },
   "outputs": [],
   "source": [
    "processed_dir_path = zoidbergManager.data_dir / 'processed'\n",
    "\n",
    "train_path = str(processed_dir_path / 'train_512x512_rgb_ds.tfrecord')\n",
    "val_path = str(processed_dir_path / 'val_512x512_rgb_ds.tfrecord')\n",
    "\n",
    "train_ds = load_image_dataset_from_tfrecord(train_path)\n",
    "val_ds = load_image_dataset_from_tfrecord(val_path)"
   ]
  },
  {
   "cell_type": "markdown",
   "metadata": {
    "id": "0k7N66K2hVVa"
   },
   "source": [
    "Then, we extract the small part of each datasets and output number of images per class for each small datasets."
   ]
  },
  {
   "cell_type": "code",
   "execution_count": 6,
   "metadata": {
    "colab": {
     "base_uri": "https://localhost:8080/"
    },
    "executionInfo": {
     "elapsed": 24217,
     "status": "ok",
     "timestamp": 1684596127893,
     "user": {
      "displayName": "Pierre-Alexandre Bolteau",
      "userId": "17404311271627354485"
     },
     "user_tz": -120
    },
    "id": "_-Nxrf_LhVVa",
    "outputId": "ddec3958-e999-45c3-eb12-873b1567abac"
   },
   "outputs": [
    {
     "name": "stdout",
     "output_type": "stream",
     "text": [
      "In training dataset, there are :\n",
      "  - 504 files for class bacteria\n",
      "  - 288 files for class normal\n",
      "  - 262 files for class virus\n",
      "\n",
      "In val dataset, there are :\n",
      "  - 10 files for class bacteria\n",
      "  - 9 files for class normal\n",
      "  - 4 files for class virus\n"
     ]
    }
   ],
   "source": [
    "num_train_img = train_ds.reduce(0, lambda x, _: x + 1).numpy()\n",
    "num_val_img = val_ds.reduce(0, lambda x, _: x + 1).numpy()\n",
    "\n",
    "# Shuffle data\n",
    "train_ds = train_ds.shuffle(buffer_size=num_train_img, seed=42)\n",
    "val_ds = val_ds.shuffle(buffer_size=num_val_img, seed=40)\n",
    "\n",
    "# Extract a sample\n",
    "small_train_size = int(num_train_img * SMALL_TRAIN_SPLIT)\n",
    "small_val_size = int(num_val_img * SMALL_VAL_SPLIT)\n",
    "\n",
    "small_train_ds = train_ds.take(small_train_size)\n",
    "small_val_ds = val_ds.take(small_val_size)\n",
    "\n",
    "def count_img_by_class(dataset, class_names=class_names):\n",
    "    num_img_by_classes = {name:0 for name in class_names}\n",
    "    for images, labels in dataset:\n",
    "        idx_label = np.nonzero(labels.numpy())[0][0]\n",
    "        for idx, name in enumerate(class_names):\n",
    "            if idx_label == idx:\n",
    "                num_img_by_classes[name] += 1\n",
    "    return num_img_by_classes\n",
    "\n",
    "print(\"In training dataset, there are :\")\n",
    "for class_name, num_img in count_img_by_class(small_train_ds).items():\n",
    "    print(f\"  - {num_img} files for class {class_name}\")    \n",
    "print(\"\\nIn val dataset, there are :\")\n",
    "for class_name, num_img in count_img_by_class(small_val_ds).items():\n",
    "    print(f\"  - {num_img} files for class {class_name}\")"
   ]
  },
  {
   "cell_type": "markdown",
   "metadata": {
    "id": "nf4nlfGshVVb"
   },
   "source": [
    "Finally, we also need to perform some actions on datasets before they can be used : \n",
    "- batching images\n",
    "- prefetching images : allows Tensorflow to preprocess and preload data in parallel of training i.e when batch $n$ is trained, batch $n+1$ is preloaded."
   ]
  },
  {
   "cell_type": "code",
   "execution_count": 7,
   "metadata": {
    "executionInfo": {
     "elapsed": 451,
     "status": "ok",
     "timestamp": 1684596134264,
     "user": {
      "displayName": "Pierre-Alexandre Bolteau",
      "userId": "17404311271627354485"
     },
     "user_tz": -120
    },
    "id": "tePgFGYZhVVb"
   },
   "outputs": [],
   "source": [
    "# Batch & prefecth data to improve computation time\n",
    "small_train_ds = small_train_ds.batch(BATCH_SIZE).prefetch(\n",
    "    buffer_size=tf.data.AUTOTUNE)\n",
    "\n",
    "small_val_ds = small_val_ds.batch(BATCH_SIZE).prefetch(\n",
    "    buffer_size=tf.data.AUTOTUNE)"
   ]
  },
  {
   "cell_type": "markdown",
   "metadata": {
    "id": "OvzPxqqrhVVb"
   },
   "source": [
    "# 3. Compare a bunch of models"
   ]
  },
  {
   "cell_type": "markdown",
   "metadata": {
    "id": "zUXib_s1hVVb"
   },
   "source": [
    "Let's now train models on this small dataset. We set useful variables below.  \n",
    "\n",
    "\n",
    "\n",
    "⚠️⚠️⚠️ WARNING : Depending on your hardware, training cells can be computationally expensive and take a really long time to run them !!!  \n",
    "That's why each of these cells are wrapped in a if condition (see `TRAIN_*MODEL*` booleans below)."
   ]
  },
  {
   "cell_type": "code",
   "execution_count": 8,
   "metadata": {
    "executionInfo": {
     "elapsed": 2,
     "status": "ok",
     "timestamp": 1684596152285,
     "user": {
      "displayName": "Pierre-Alexandre Bolteau",
      "userId": "17404311271627354485"
     },
     "user_tz": -120
    },
    "id": "PjPDpNmLhVVc"
   },
   "outputs": [],
   "source": [
    "EPOCHS = 30\n",
    "LEARNING_RATE = 0.0001\n",
    "\n",
    "TRAIN_VGG16 = False\n",
    "TRAIN_RESNET50 = False\n",
    "TRAIN_INCEPTION_RESNET = False\n",
    "TRAIN_XCEPTION = False\n",
    "TRAIN_EFFICIENTNETB0 = False"
   ]
  },
  {
   "cell_type": "markdown",
   "metadata": {
    "id": "LnlgrZcQhVVc"
   },
   "source": [
    "We define also a callback : \n",
    "- `checkpoint_cb` : save model at each epoch (only save best weight)."
   ]
  },
  {
   "cell_type": "code",
   "execution_count": 9,
   "metadata": {
    "executionInfo": {
     "elapsed": 391,
     "status": "ok",
     "timestamp": 1684596160932,
     "user": {
      "displayName": "Pierre-Alexandre Bolteau",
      "userId": "17404311271627354485"
     },
     "user_tz": -120
    },
    "id": "QezE9-_EhVVc"
   },
   "outputs": [],
   "source": [
    "def checkpoint_cb(model):\n",
    "    checkpoint_dir = zoidbergManager.model_dir / 'checkpoints'\n",
    "    checkpoint_filepath = checkpoint_dir / f'ckpt_smallds_{model.name}.h5'\n",
    "    ckpt_cb = keras.callbacks.ModelCheckpoint(\n",
    "        filepath=checkpoint_filepath,\n",
    "        monitor='val_MCC',\n",
    "        mode='max',\n",
    "        save_best_only=True\n",
    "    )\n",
    "    return ckpt_cb"
   ]
  },
  {
   "cell_type": "markdown",
   "metadata": {
    "id": "-BIMS_8rhVVc"
   },
   "source": [
    "Next, we compute class weights to prevent imbalanced classes (as we saw when we analyzed data) : "
   ]
  },
  {
   "cell_type": "code",
   "execution_count": 10,
   "metadata": {
    "colab": {
     "base_uri": "https://localhost:8080/"
    },
    "executionInfo": {
     "elapsed": 4522,
     "status": "ok",
     "timestamp": 1684596172166,
     "user": {
      "displayName": "Pierre-Alexandre Bolteau",
      "userId": "17404311271627354485"
     },
     "user_tz": -120
    },
    "id": "JmdrfrxghVVd",
    "outputId": "5c2e771b-516b-4ea6-bbf7-530bb04ee3d7"
   },
   "outputs": [
    {
     "name": "stdout",
     "output_type": "stream",
     "text": [
      "class bacteria => weight : 0.696393\n",
      "class normal => weight : 1.241696\n",
      "class virus => weight : 1.318080\n"
     ]
    }
   ],
   "source": [
    "y_train_iterator = train_ds.map(lambda x, y: y).as_numpy_iterator()\n",
    "y_train = []\n",
    "for one_vector in y_train_iterator:\n",
    "    y_train.append(one_vector)\n",
    "y_train = np.argmax(y_train, axis=1)\n",
    "\n",
    "class_weights = class_weight.compute_class_weight('balanced', classes=np.unique(y_train), y=y_train)\n",
    "\n",
    "dic_class_weights = {}\n",
    "for idx, weight in enumerate(class_weights):\n",
    "    dic_class_weights[idx] = weight\n",
    "    print(f'class {class_names[idx]} => weight : {weight:2f}')\n",
    "    \n",
    "class_weights_filepath = zoidbergManager.model_dir / 'class_weights.json'\n",
    "json.dump(\n",
    "    {'names': class_names,'weights': list(class_weights)},\n",
    "    open(class_weights_filepath, 'w')\n",
    ")"
   ]
  },
  {
   "cell_type": "markdown",
   "metadata": {
    "id": "rtLS0A2Drbq9"
   },
   "source": [
    "Finally, we define 2 functions to train a model and save its history :"
   ]
  },
  {
   "cell_type": "code",
   "execution_count": 11,
   "metadata": {
    "executionInfo": {
     "elapsed": 383,
     "status": "ok",
     "timestamp": 1684596180363,
     "user": {
      "displayName": "Pierre-Alexandre Bolteau",
      "userId": "17404311271627354485"
     },
     "user_tz": -120
    },
    "id": "RSi-ELoOhVVd"
   },
   "outputs": [],
   "source": [
    "def save_history(model, history, training_time):\n",
    "    dic = {}\n",
    "    dic['history'] = history.history\n",
    "    dic['training_time'] = training_time\n",
    "    dic['epoch_time'] = training_time/len(history.history['loss'])\n",
    "    history_dir = zoidbergManager.model_dir / 'histories'\n",
    "    history_filepath = history_dir / f'hty_smallds_{model.name}.json'\n",
    "    json.dump(dic, open(history_filepath, 'w'))\n",
    "\n",
    "def train_model(model, save=False):\n",
    "    start_time = time.time()\n",
    "    history = model.fit(small_train_ds,\n",
    "                        validation_data=small_val_ds,\n",
    "                        epochs=EPOCHS,\n",
    "                        #steps_per_epoch=(small_train_size // BATCH_SIZE + 1),\n",
    "                        class_weight=dic_class_weights,\n",
    "                        callbacks=[checkpoint_cb(model)],\n",
    "                        )\n",
    "    training_time = time.time() - start_time\n",
    "\n",
    "    if save:\n",
    "        save_history(model, history, training_time)\n",
    "\n",
    "    return history, training_time"
   ]
  },
  {
   "cell_type": "markdown",
   "metadata": {
    "id": "gA7OtqFKrbq9"
   },
   "source": [
    "We selected 4 kinds of models to try. Those models have been chosen base on their performance : \n",
    "- VGG and ResNet have been used several times on this dataset with some good performances. Many notebooks can be found on [kaggle](https://www.kaggle.com/datasets/paultimothymooney/chest-xray-pneumonia)\n",
    "- Xception and EfficientNet have good results on imagenet with few parameters.\n",
    "\n",
    "One can check performance of each model on imagenet here : [keras.applications](https://keras.io/api/applications/)"
   ]
  },
  {
   "cell_type": "markdown",
   "metadata": {
    "id": "cCiLE3BJhVVd"
   },
   "source": [
    "## 3.1 VGG"
   ]
  },
  {
   "cell_type": "code",
   "execution_count": 12,
   "metadata": {
    "colab": {
     "base_uri": "https://localhost:8080/"
    },
    "executionInfo": {
     "elapsed": 4906,
     "status": "ok",
     "timestamp": 1684596192280,
     "user": {
      "displayName": "Pierre-Alexandre Bolteau",
      "userId": "17404311271627354485"
     },
     "user_tz": -120
    },
    "id": "NE5g5a9khVVd",
    "outputId": "8d083182-67e6-467b-b7a3-3e284ff72a7b"
   },
   "outputs": [],
   "source": [
    "def make_vgg16():\n",
    "    base_vgg16 = tf.keras.applications.VGG16(weights='imagenet', input_shape=(224,224,3), include_top=False)\n",
    "    for layer in base_vgg16.layers:\n",
    "        layer.trainable = False\n",
    "    \n",
    "    vgg16 = tf.keras.Sequential([\n",
    "        keras.layers.InputLayer(input_shape=(512,512,3), name='input'),\n",
    "        keras.layers.Resizing(224, 224, interpolation=\"bilinear\", name='resize'),\n",
    "        keras.layers.Rescaling(scale=1./255., name='rescale'),\n",
    "        base_vgg16,\n",
    "        keras.layers.Flatten(name='flatten'),\n",
    "        keras.layers.Dense(1024, activation='relu', name='fully_conn1'),\n",
    "        keras.layers.Dense(512, activation='relu', name='fully_conn2'),\n",
    "        keras.layers.Dense(3, activation='softmax', name='out_softmax'),\n",
    "    ], name = 'vgg16')\n",
    "\n",
    "    vgg16.compile(optimizer=keras.optimizers.Adam(learning_rate=LEARNING_RATE),\n",
    "                  loss='categorical_crossentropy',\n",
    "                  metrics=evaluation.get_training_metrics()\n",
    "                 )\n",
    "    return vgg16\n",
    "    \n",
    "with strategy.scope():\n",
    "    vgg16 = make_vgg16()"
   ]
  },
  {
   "cell_type": "code",
   "execution_count": 13,
   "metadata": {
    "colab": {
     "base_uri": "https://localhost:8080/"
    },
    "executionInfo": {
     "elapsed": 136234,
     "status": "ok",
     "timestamp": 1684596332451,
     "user": {
      "displayName": "Pierre-Alexandre Bolteau",
      "userId": "17404311271627354485"
     },
     "user_tz": -120
    },
    "id": "ZZs5AHk7hVVe",
    "outputId": "2bc18ccc-e634-439c-c5f9-0fd6d2d83c4d",
    "scrolled": false
   },
   "outputs": [],
   "source": [
    "if TRAIN_VGG16:\n",
    "    vgg16_history, vgg16_time = train_model(vgg16, save=True)"
   ]
  },
  {
   "cell_type": "markdown",
   "metadata": {
    "id": "ghcM_yeEhVVe"
   },
   "source": [
    "## 3.2 ResNet"
   ]
  },
  {
   "cell_type": "code",
   "execution_count": 14,
   "metadata": {
    "colab": {
     "base_uri": "https://localhost:8080/"
    },
    "executionInfo": {
     "elapsed": 9533,
     "status": "ok",
     "timestamp": 1684597099528,
     "user": {
      "displayName": "Pierre-Alexandre Bolteau",
      "userId": "17404311271627354485"
     },
     "user_tz": -120
    },
    "id": "n87i4rsvrbq-",
    "outputId": "fcac6b79-89d9-46a0-f839-aa803a6098d7"
   },
   "outputs": [],
   "source": [
    "def make_resnet50():\n",
    "    base_resnet50 = tf.keras.applications.ResNet50V2(weights='imagenet', input_shape=(224,224,3), include_top=False)\n",
    "    for layer in base_resnet50.layers:\n",
    "        layer.trainable = False\n",
    "    \n",
    "    resnet50 = tf.keras.Sequential([\n",
    "        keras.layers.InputLayer(input_shape=(512,512,3), name='input'),\n",
    "        keras.layers.Resizing(224, 224, interpolation=\"bilinear\", name='resize'),\n",
    "        keras.layers.Rescaling(scale=1./255., name='rescale'),\n",
    "        base_resnet50,\n",
    "        keras.layers.GlobalAveragePooling2D(name='avg_pool'),\n",
    "        keras.layers.Dense(1024, activation='relu', name='fully_conn1'),\n",
    "        keras.layers.Dense(512, activation='relu', name='fully_conn2'),\n",
    "        keras.layers.Dense(3, activation='softmax', name='out_softmax'),\n",
    "    ], name = 'resnet50')\n",
    "\n",
    "    resnet50.compile(optimizer=keras.optimizers.Adam(learning_rate=LEARNING_RATE),\n",
    "                  loss='categorical_crossentropy',\n",
    "                  metrics=evaluation.get_training_metrics()\n",
    "                 )\n",
    "    return resnet50\n",
    "    \n",
    "with strategy.scope():\n",
    "    resnet50 = make_resnet50()"
   ]
  },
  {
   "cell_type": "code",
   "execution_count": 15,
   "metadata": {
    "colab": {
     "base_uri": "https://localhost:8080/"
    },
    "executionInfo": {
     "elapsed": 117055,
     "status": "ok",
     "timestamp": 1684597219340,
     "user": {
      "displayName": "Pierre-Alexandre Bolteau",
      "userId": "17404311271627354485"
     },
     "user_tz": -120
    },
    "id": "Bj4As51_rbq-",
    "outputId": "c0a68a48-f1f3-4ddd-b6e8-b1a38d672c83"
   },
   "outputs": [],
   "source": [
    "if TRAIN_RESNET50:\n",
    "    resnet50_history, resnet50_time = train_model(resnet50, save=True)"
   ]
  },
  {
   "cell_type": "code",
   "execution_count": 16,
   "metadata": {
    "colab": {
     "base_uri": "https://localhost:8080/"
    },
    "executionInfo": {
     "elapsed": 24255,
     "status": "ok",
     "timestamp": 1684597250238,
     "user": {
      "displayName": "Pierre-Alexandre Bolteau",
      "userId": "17404311271627354485"
     },
     "user_tz": -120
    },
    "id": "G5YgO9jvrbq-",
    "outputId": "855c032f-c476-4919-c12d-e33536108f1d"
   },
   "outputs": [],
   "source": [
    "def make_inception_resnet():\n",
    "    base_inception_resnet = tf.keras.applications.InceptionResNetV2(weights='imagenet', input_shape=(299,299,3), include_top=False)\n",
    "    for layer in base_inception_resnet.layers:\n",
    "        layer.trainable = False\n",
    "    \n",
    "    inception_resnet = tf.keras.Sequential([\n",
    "        keras.layers.InputLayer(input_shape=(512,512,3), name='input'),\n",
    "        keras.layers.Resizing(299, 299, interpolation=\"bilinear\", name='resize'),\n",
    "        keras.layers.Rescaling(scale=1./255., name='rescale'),\n",
    "        base_inception_resnet,\n",
    "        keras.layers.GlobalAveragePooling2D(name='avg_pool'),\n",
    "        keras.layers.Dense(1024, activation='relu', name='fully_conn1'),\n",
    "        keras.layers.Dense(512, activation='relu', name='fully_conn2'),\n",
    "        keras.layers.Dense(3, activation='softmax', name='out_softmax'),\n",
    "    ], name = 'inception_resnet')\n",
    "\n",
    "    inception_resnet.compile(optimizer=keras.optimizers.Adam(learning_rate=LEARNING_RATE),\n",
    "                  loss='categorical_crossentropy',\n",
    "                  metrics=evaluation.get_training_metrics()\n",
    "                 )\n",
    "    return inception_resnet\n",
    "    \n",
    "with strategy.scope():\n",
    "    inception_resnet = make_inception_resnet()"
   ]
  },
  {
   "cell_type": "code",
   "execution_count": 17,
   "metadata": {
    "colab": {
     "base_uri": "https://localhost:8080/"
    },
    "executionInfo": {
     "elapsed": 161093,
     "status": "ok",
     "timestamp": 1684597476674,
     "user": {
      "displayName": "Pierre-Alexandre Bolteau",
      "userId": "17404311271627354485"
     },
     "user_tz": -120
    },
    "id": "X0BsaJ21rbq-",
    "outputId": "17e634d4-01ea-4538-b92e-fd056e05c353"
   },
   "outputs": [],
   "source": [
    "if TRAIN_INCEPTION_RESNET:\n",
    "    inception_resnet_history, inception_resnet_time = train_model(inception_resnet, save=True)"
   ]
  },
  {
   "cell_type": "markdown",
   "metadata": {
    "id": "413g_qTrhVVe"
   },
   "source": [
    "## 3.3 Xception"
   ]
  },
  {
   "cell_type": "code",
   "execution_count": 18,
   "metadata": {
    "colab": {
     "base_uri": "https://localhost:8080/"
    },
    "executionInfo": {
     "elapsed": 8508,
     "status": "ok",
     "timestamp": 1684597500530,
     "user": {
      "displayName": "Pierre-Alexandre Bolteau",
      "userId": "17404311271627354485"
     },
     "user_tz": -120
    },
    "id": "wCwXAqiHrbq_",
    "outputId": "82a224bb-3db5-4ac3-c43a-7a54dd765cdd"
   },
   "outputs": [],
   "source": [
    "def make_xception():\n",
    "    base_xception = tf.keras.applications.Xception(weights='imagenet', input_shape=(299,299,3), include_top=False)\n",
    "    for layer in base_xception.layers:\n",
    "        layer.trainable = False\n",
    "    \n",
    "    xception = tf.keras.Sequential([\n",
    "        keras.layers.InputLayer(input_shape=(512,512,3), name='input'),\n",
    "        keras.layers.Resizing(299, 299, interpolation=\"bilinear\", name='resize'),\n",
    "        keras.layers.Rescaling(scale=1./255., name='rescale'),\n",
    "        base_xception,\n",
    "        keras.layers.GlobalAveragePooling2D(name='avg_pool'),\n",
    "        keras.layers.Dense(1024, activation='relu', name='fully_conn1'),\n",
    "        keras.layers.Dense(512, activation='relu', name='fully_conn2'),\n",
    "        keras.layers.Dense(3, activation='softmax', name='out_softmax'),\n",
    "    ], name = 'xception')\n",
    "\n",
    "    xception.compile(optimizer=keras.optimizers.Adam(learning_rate=LEARNING_RATE),\n",
    "                  loss='categorical_crossentropy',\n",
    "                  metrics=evaluation.get_training_metrics()\n",
    "                 )\n",
    "    return xception\n",
    "    \n",
    "with strategy.scope():\n",
    "    xception = make_xception()"
   ]
  },
  {
   "cell_type": "code",
   "execution_count": 19,
   "metadata": {
    "colab": {
     "base_uri": "https://localhost:8080/"
    },
    "executionInfo": {
     "elapsed": 129057,
     "status": "ok",
     "timestamp": 1684597629571,
     "user": {
      "displayName": "Pierre-Alexandre Bolteau",
      "userId": "17404311271627354485"
     },
     "user_tz": -120
    },
    "id": "HqQbdTz_rbq_",
    "outputId": "f2c7a204-db6d-4d57-c8ec-a325ef029d10"
   },
   "outputs": [],
   "source": [
    "if TRAIN_XCEPTION:\n",
    "    xception_history, xception_time = train_model(xception, save=True)"
   ]
  },
  {
   "cell_type": "markdown",
   "metadata": {
    "id": "7RfpvOgthVVe"
   },
   "source": [
    "## 3.4 EfficientNet"
   ]
  },
  {
   "cell_type": "code",
   "execution_count": 20,
   "metadata": {
    "colab": {
     "base_uri": "https://localhost:8080/"
    },
    "executionInfo": {
     "elapsed": 7775,
     "status": "ok",
     "timestamp": 1684597653606,
     "user": {
      "displayName": "Pierre-Alexandre Bolteau",
      "userId": "17404311271627354485"
     },
     "user_tz": -120
    },
    "id": "Pm6hLRwbrbq_",
    "outputId": "83dad03a-72c5-403b-ff39-ae72bcd5922f"
   },
   "outputs": [],
   "source": [
    "def make_efficientnetb0():\n",
    "    base_efficientnetb0 = tf.keras.applications.EfficientNetV2B0(weights='imagenet', input_shape=(224,224,3), include_top=False)\n",
    "    for layer in base_efficientnetb0.layers:\n",
    "        layer.trainable = False\n",
    "    \n",
    "    efficientnetb0 = tf.keras.Sequential([\n",
    "        keras.layers.InputLayer(input_shape=(512,512,3), name='input'),\n",
    "        keras.layers.Resizing(224, 224, interpolation=\"bilinear\", name='resize'),\n",
    "        base_efficientnetb0,\n",
    "        keras.layers.GlobalAveragePooling2D(name='avg_pool'),\n",
    "        keras.layers.Dense(1024, activation='relu', name='fully_conn1'),\n",
    "        keras.layers.Dense(512, activation='relu', name='fully_conn2'),\n",
    "        keras.layers.Dense(3, activation='softmax', name='out_softmax'),\n",
    "    ], name = 'efficientnetb0')\n",
    "\n",
    "    efficientnetb0.compile(optimizer=keras.optimizers.Adam(learning_rate=LEARNING_RATE),\n",
    "                  loss='categorical_crossentropy',\n",
    "                  metrics=evaluation.get_training_metrics()\n",
    "                 )\n",
    "    return efficientnetb0\n",
    "    \n",
    "with strategy.scope():\n",
    "    efficientnetb0 = make_efficientnetb0()"
   ]
  },
  {
   "cell_type": "code",
   "execution_count": 21,
   "metadata": {
    "colab": {
     "base_uri": "https://localhost:8080/"
    },
    "executionInfo": {
     "elapsed": 119230,
     "status": "ok",
     "timestamp": 1684597772820,
     "user": {
      "displayName": "Pierre-Alexandre Bolteau",
      "userId": "17404311271627354485"
     },
     "user_tz": -120
    },
    "id": "ruWy4Divrbq_",
    "outputId": "221fab23-8051-4cdc-9535-03543e3850ec"
   },
   "outputs": [],
   "source": [
    "if TRAIN_EFFICIENTNETB0:\n",
    "    efficientnetb0_history, efficientnetb0_time = train_model(efficientnetb0, save=True)"
   ]
  },
  {
   "cell_type": "markdown",
   "metadata": {
    "id": "tQdaSEVWrbq_"
   },
   "source": [
    "## 3.5 Results"
   ]
  },
  {
   "cell_type": "code",
   "execution_count": 22,
   "metadata": {
    "id": "etSxQ6aUvnYk",
    "outputId": "94f62b87-5afb-4555-857c-3f11073bfbab"
   },
   "outputs": [
    {
     "data": {
      "text/html": [
       "<div>\n",
       "<style scoped>\n",
       "    .dataframe tbody tr th:only-of-type {\n",
       "        vertical-align: middle;\n",
       "    }\n",
       "\n",
       "    .dataframe tbody tr th {\n",
       "        vertical-align: top;\n",
       "    }\n",
       "\n",
       "    .dataframe thead th {\n",
       "        text-align: right;\n",
       "    }\n",
       "</style>\n",
       "<table border=\"1\" class=\"dataframe\">\n",
       "  <thead>\n",
       "    <tr style=\"text-align: right;\">\n",
       "      <th></th>\n",
       "      <th>model</th>\n",
       "      <th>size</th>\n",
       "      <th>training_time</th>\n",
       "      <th>max MCC</th>\n",
       "      <th>max val_MCC</th>\n",
       "    </tr>\n",
       "  </thead>\n",
       "  <tbody>\n",
       "    <tr>\n",
       "      <th>0</th>\n",
       "      <td>vgg16</td>\n",
       "      <td>373.5 MB</td>\n",
       "      <td>134.558 s</td>\n",
       "      <td>0.813</td>\n",
       "      <td>0.936</td>\n",
       "    </tr>\n",
       "    <tr>\n",
       "      <th>1</th>\n",
       "      <td>resnet50</td>\n",
       "      <td>126.1 MB</td>\n",
       "      <td>116.171 s</td>\n",
       "      <td>0.846</td>\n",
       "      <td>0.932</td>\n",
       "    </tr>\n",
       "    <tr>\n",
       "      <th>2</th>\n",
       "      <td>inception_resnet</td>\n",
       "      <td>243.8 MB</td>\n",
       "      <td>160.091 s</td>\n",
       "      <td>0.688</td>\n",
       "      <td>0.863</td>\n",
       "    </tr>\n",
       "    <tr>\n",
       "      <th>3</th>\n",
       "      <td>xception</td>\n",
       "      <td>115.2 MB</td>\n",
       "      <td>128.389 s</td>\n",
       "      <td>0.775</td>\n",
       "      <td>0.929</td>\n",
       "    </tr>\n",
       "    <tr>\n",
       "      <th>4</th>\n",
       "      <td>efficientnetb0</td>\n",
       "      <td>46.2 MB</td>\n",
       "      <td>118.896 s</td>\n",
       "      <td>0.751</td>\n",
       "      <td>1.000</td>\n",
       "    </tr>\n",
       "  </tbody>\n",
       "</table>\n",
       "</div>"
      ],
      "text/plain": [
       "              model      size training_time max MCC max val_MCC\n",
       "0             vgg16  373.5 MB     134.558 s   0.813       0.936\n",
       "1          resnet50  126.1 MB     116.171 s   0.846       0.932\n",
       "2  inception_resnet  243.8 MB     160.091 s   0.688       0.863\n",
       "3          xception  115.2 MB     128.389 s   0.775       0.929\n",
       "4    efficientnetb0   46.2 MB     118.896 s   0.751       1.000"
      ]
     },
     "execution_count": 22,
     "metadata": {},
     "output_type": "execute_result"
    }
   ],
   "source": [
    "history_path = {\n",
    "    'vgg16' : zoidbergManager.model_dir / 'histories' / 'hty_smallds_vgg16.json',\n",
    "    'resnet50' : zoidbergManager.model_dir / 'histories' / 'hty_smallds_resnet50.json',\n",
    "    'inception_resnet' : zoidbergManager.model_dir / 'histories' / 'hty_smallds_inception_resnet.json',\n",
    "    'xception' : zoidbergManager.model_dir / 'histories' / 'hty_smallds_xception.json',\n",
    "    'efficientnetb0' : zoidbergManager.model_dir / 'histories' / 'hty_smallds_efficientnetb0.json'\n",
    "}\n",
    "\n",
    "checkpoint_path = {\n",
    "    'vgg16' : zoidbergManager.model_dir / 'checkpoints' / 'ckpt_smallds_vgg16.h5',\n",
    "    'resnet50' : zoidbergManager.model_dir / 'checkpoints' / 'ckpt_smallds_resnet50.h5',\n",
    "    'inception_resnet' : zoidbergManager.model_dir / 'checkpoints' / 'ckpt_smallds_inception_resnet.h5',\n",
    "    'xception' : zoidbergManager.model_dir / 'checkpoints' / 'ckpt_smallds_xception.h5',\n",
    "    'efficientnetb0' : zoidbergManager.model_dir / 'checkpoints' / 'ckpt_smallds_efficientnetb0.h5'\n",
    "}\n",
    "\n",
    "sumup_result_df = pd.DataFrame(columns=['model','size','training_time','max MCC','max val_MCC'])\n",
    "histories = {}\n",
    "for model_name, path in history_path.items():\n",
    "    with open(path) as file:\n",
    "        history = json.load(file)\n",
    "    histories[model_name] = history['history']\n",
    "    sumup = []\n",
    "    sumup.append(model_name)\n",
    "    sumup.append(f'{checkpoint_path[model_name].stat().st_size / (1e6):.1f} MB')\n",
    "    sumup.append(f\"{history['training_time']:.3f} s\")\n",
    "    sumup.append(f\"{np.max(history['history']['MCC']):.3f}\")\n",
    "    sumup.append(f\"{np.max(history['history']['val_MCC']):.3f}\")\n",
    "    idx_model = list(history_path.keys()).index(model_name)\n",
    "    sumup_result_df.loc[idx_model] = sumup\n",
    "\n",
    "sumup_result_df.head()"
   ]
  },
  {
   "cell_type": "code",
   "execution_count": 23,
   "metadata": {
    "id": "vlPO6BlNvnYl",
    "outputId": "e3e79e71-700b-40fd-9e97-54af2eec90fe"
   },
   "outputs": [
    {
     "data": {
      "image/png": "[encoded data removed]",
      "text/plain": [
       "<Figure size 700x500 with 1 Axes>"
      ]
     },
     "metadata": {},
     "output_type": "display_data"
    }
   ],
   "source": [
    "mcc_history = {}\n",
    "for model, history in histories.items():\n",
    "    mcc_history[model] = history['val_MCC']\n",
    "\n",
    "sns.set_style('ticks')\n",
    "bp = sns.boxplot(data=pd.DataFrame.from_dict(mcc_history).iloc[-5:])\n",
    "bp.set_title('val_MCC over last 5 epochs')\n",
    "sns.despine(offset=10, trim=True)"
   ]
  },
  {
   "cell_type": "code",
   "execution_count": 24,
   "metadata": {
    "id": "71f9ILqGvnYl",
    "outputId": "13d73301-29ed-4927-d9ad-346ee27f5716"
   },
   "outputs": [
    {
     "data": {
      "image/png": "[encoded data removed]",
      "text/plain": [
       "<Figure size 1207.37x750 with 5 Axes>"
      ]
     },
     "metadata": {},
     "output_type": "display_data"
    }
   ],
   "source": [
    "epochs = list(range(1,EPOCHS+1))\n",
    "full_mcc_history = []\n",
    "for model, history in histories.items():\n",
    "    data = {}\n",
    "    data['epoch'] = epochs\n",
    "    data['model'] = [model]*EPOCHS\n",
    "    data['MCC'] = history['MCC']\n",
    "    data['val_MCC'] = history['val_MCC']\n",
    "    full_mcc_history.append(pd.DataFrame.from_dict(data))\n",
    "full_mcc_history_df = pd.concat(full_mcc_history)\n",
    "\n",
    "sns.set_style('ticks')\n",
    "rp = sns.relplot(\n",
    "    data=pd.melt(full_mcc_history_df,['epoch','model']),\n",
    "    x=\"epoch\",\n",
    "    y=\"value\",\n",
    "    hue=\"variable\",\n",
    "    col=\"model\",\n",
    "    col_wrap=2,\n",
    "    height=2.5,\n",
    "    aspect=2.2,\n",
    "    kind=\"line\"\n",
    ")\n",
    "rp.fig.suptitle('Learning curves', fontsize=14)\n",
    "rp.fig.subplots_adjust(top=0.9)\n",
    "sns.move_legend(rp,\n",
    "                'center',\n",
    "                bbox_to_anchor=(.7, .18),\n",
    "                fontsize=14,\n",
    "                title_fontsize=14,\n",
    "                frameon=True,\n",
    "                borderpad=1)"
   ]
  },
  {
   "cell_type": "code",
   "execution_count": null,
   "metadata": {},
   "outputs": [],
   "source": []
  }
 ],
 "metadata": {
  "accelerator": "GPU",
  "colab": {
   "gpuType": "A100",
   "machine_shape": "hm",
   "provenance": []
  },
  "gpuClass": "premium",
  "kernelspec": {
   "display_name": "Python 3 (ipykernel)",
   "language": "python",
   "name": "python3"
  },
  "language_info": {
   "codemirror_mode": {
    "name": "ipython",
    "version": 3
   },
   "file_extension": ".py",
   "mimetype": "text/x-python",
   "name": "python",
   "nbconvert_exporter": "python",
   "pygments_lexer": "ipython3",
   "version": "3.9.16"
  }
 },
 "nbformat": 4,
 "nbformat_minor": 1
}

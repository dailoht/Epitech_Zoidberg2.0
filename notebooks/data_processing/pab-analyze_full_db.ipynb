{
 "cells": [
  {
   "cell_type": "markdown",
   "metadata": {},
   "source": [
    "<center>\n",
    "    <h1>Analyzing data and preprocessing</h1>\n",
    "</center>"
   ]
  },
  {
   "cell_type": "markdown",
   "metadata": {},
   "source": [
    "# 1. Setup"
   ]
  },
  {
   "cell_type": "code",
   "execution_count": 1,
   "metadata": {},
   "outputs": [
    {
     "name": "stderr",
     "output_type": "stream",
     "text": [
      "2023-02-28 20:39:51.287936: I tensorflow/core/platform/cpu_feature_guard.cc:193] This TensorFlow binary is optimized with oneAPI Deep Neural Network Library (oneDNN) to use the following CPU instructions in performance-critical operations:  SSE4.1 SSE4.2 AVX AVX2 FMA\n",
      "To enable them in other operations, rebuild TensorFlow with the appropriate compiler flags.\n"
     ]
    }
   ],
   "source": [
    "# Import base librairies\n",
    "import sys\n",
    "from pathlib import Path\n",
    "from PIL import Image\n",
    "\n",
    "# Import scientific librairies\n",
    "import pandas as pd\n",
    "import numpy as np\n",
    "import matplotlib.pyplot as plt\n",
    "import seaborn as sns\n",
    "\n",
    "# Import Tensorflow\n",
    "from tensorflow import keras\n",
    "\n",
    "# Add project directory to kernel paths\n",
    "sys.path.append(\"../..\")"
   ]
  },
  {
   "cell_type": "code",
   "execution_count": 2,
   "metadata": {},
   "outputs": [],
   "source": [
    "# Import custom functions\n",
    "from src.visualization.plot_lib import default_viz\n",
    "from src.data.file_manager import fetch_full_dataset, check_full_dataset, ProjectInfo\n",
    "\n",
    "zoidbergInfo = ProjectInfo()\n",
    "\n",
    "# Set default graphics visualization\n",
    "%matplotlib inline\n",
    "default_viz()"
   ]
  },
  {
   "cell_type": "markdown",
   "metadata": {},
   "source": [
    "# 2. Transform data into a common dataset"
   ]
  },
  {
   "cell_type": "markdown",
   "metadata": {},
   "source": [
    "Before starting any analysis on the data, we just transform the data folder structure into a more convinient one:\n",
    "- we remove train, val and set folder as we will split data later\n",
    "- we provide 3 folders : one by class\n",
    "\n",
    "This folder is in the interim data folder."
   ]
  },
  {
   "cell_type": "code",
   "execution_count": 3,
   "metadata": {},
   "outputs": [
    {
     "name": "stdout",
     "output_type": "stream",
     "text": [
      "Full dataset already created\n",
      "\n",
      "full dataset : class normal => nb images = 1583\n",
      "full dataset : class bacteria => nb images = 2780\n",
      "full dataset : class virus => nb images = 1493\n",
      "----------------------------------------\n",
      "raw data     : class bacteria => nb images = 2780\n",
      "raw data     : class normal => nb images = 1583\n",
      "raw data     : class virus => nb images = 1493\n"
     ]
    }
   ],
   "source": [
    "fetch_full_dataset()\n",
    "print('')\n",
    "is_ok = check_full_dataset(print_result=True)"
   ]
  },
  {
   "cell_type": "markdown",
   "metadata": {},
   "source": [
    "Then, we will create a DataFrame that contains metadata of each images in orders to analyse those images. The metadata we would like are : \n",
    " - Filename\n",
    " - Size of the image\n",
    " - Number of channels e.g grayscale, rbg, rgba, so on\n",
    " - Label of the image  : normal, virus, bacteria"
   ]
  },
  {
   "cell_type": "code",
   "execution_count": 5,
   "metadata": {},
   "outputs": [
    {
     "data": {
      "text/html": [
       "<div>\n",
       "<style scoped>\n",
       "    .dataframe tbody tr th:only-of-type {\n",
       "        vertical-align: middle;\n",
       "    }\n",
       "\n",
       "    .dataframe tbody tr th {\n",
       "        vertical-align: top;\n",
       "    }\n",
       "\n",
       "    .dataframe thead th {\n",
       "        text-align: right;\n",
       "    }\n",
       "</style>\n",
       "<table border=\"1\" class=\"dataframe\">\n",
       "  <thead>\n",
       "    <tr style=\"text-align: right;\">\n",
       "      <th></th>\n",
       "      <th>image name</th>\n",
       "      <th>width</th>\n",
       "      <th>height</th>\n",
       "      <th>channels</th>\n",
       "      <th>label</th>\n",
       "    </tr>\n",
       "  </thead>\n",
       "  <tbody>\n",
       "    <tr>\n",
       "      <th>0</th>\n",
       "      <td>normal_img_1280.jpeg</td>\n",
       "      <td>1546</td>\n",
       "      <td>1271</td>\n",
       "      <td>1</td>\n",
       "      <td>normal</td>\n",
       "    </tr>\n",
       "    <tr>\n",
       "      <th>1</th>\n",
       "      <td>normal_img_0868.jpeg</td>\n",
       "      <td>1504</td>\n",
       "      <td>1174</td>\n",
       "      <td>1</td>\n",
       "      <td>normal</td>\n",
       "    </tr>\n",
       "    <tr>\n",
       "      <th>2</th>\n",
       "      <td>normal_img_0491.jpeg</td>\n",
       "      <td>1786</td>\n",
       "      <td>1360</td>\n",
       "      <td>1</td>\n",
       "      <td>normal</td>\n",
       "    </tr>\n",
       "    <tr>\n",
       "      <th>3</th>\n",
       "      <td>normal_img_0184.jpeg</td>\n",
       "      <td>1450</td>\n",
       "      <td>1149</td>\n",
       "      <td>1</td>\n",
       "      <td>normal</td>\n",
       "    </tr>\n",
       "    <tr>\n",
       "      <th>4</th>\n",
       "      <td>normal_img_0887.jpeg</td>\n",
       "      <td>912</td>\n",
       "      <td>672</td>\n",
       "      <td>1</td>\n",
       "      <td>normal</td>\n",
       "    </tr>\n",
       "  </tbody>\n",
       "</table>\n",
       "</div>"
      ],
      "text/plain": [
       "             image name  width  height  channels   label\n",
       "0  normal_img_1280.jpeg   1546    1271         1  normal\n",
       "1  normal_img_0868.jpeg   1504    1174         1  normal\n",
       "2  normal_img_0491.jpeg   1786    1360         1  normal\n",
       "3  normal_img_0184.jpeg   1450    1149         1  normal\n",
       "4  normal_img_0887.jpeg    912     672         1  normal"
      ]
     },
     "execution_count": 5,
     "metadata": {},
     "output_type": "execute_result"
    }
   ],
   "source": [
    "metadata = []\n",
    "for img_path in Path(zoidbergInfo.data_dir / \"interim\" / \"full\").rglob('*.jpeg'):\n",
    "    with Image.open(img_path) as img:\n",
    "        label = img_path.parents[0].name\n",
    "        width, height = img.size\n",
    "        channels = len(img.getbands())\n",
    "        \n",
    "        metadata.append((img_path.name, width, height, channels, label))\n",
    "\n",
    "metadata_df = pd.DataFrame(metadata, columns=[\"image\", \"width\", \"height\", \"channels\", \"label\"])\n",
    "\n",
    "metadata_df.head()"
   ]
  },
  {
   "cell_type": "markdown",
   "metadata": {},
   "source": [
    "display 2 images per label"
   ]
  }
 ],
 "metadata": {
  "kernelspec": {
   "display_name": "Python 3 (ipykernel)",
   "language": "python",
   "name": "python3"
  },
  "language_info": {
   "codemirror_mode": {
    "name": "ipython",
    "version": 3
   },
   "file_extension": ".py",
   "mimetype": "text/x-python",
   "name": "python",
   "nbconvert_exporter": "python",
   "pygments_lexer": "ipython3",
   "version": "3.9.16"
  },
  "vscode": {
   "interpreter": {
    "hash": "62655df402c2929bc618566dfef179c42d55fb35fddbbfe25b08246aa88d6607"
   }
  }
 },
 "nbformat": 4,
 "nbformat_minor": 2
}
